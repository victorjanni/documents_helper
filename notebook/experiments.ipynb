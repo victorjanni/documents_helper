{
 "cells": [
  {
   "cell_type": "code",
   "execution_count": 1,
   "id": "d0f427f5",
   "metadata": {},
   "outputs": [
    {
     "name": "stdout",
     "output_type": "stream",
     "text": [
      "hi\n"
     ]
    }
   ],
   "source": [
    "print('hi')"
   ]
  },
  {
   "cell_type": "code",
   "execution_count": 5,
   "id": "a40c4796",
   "metadata": {},
   "outputs": [],
   "source": [
    "from langchain_groq import ChatGroq\n",
    "from dotenv import load_dotenv\n"
   ]
  },
  {
   "cell_type": "code",
   "execution_count": 6,
   "id": "ef4a42ec",
   "metadata": {},
   "outputs": [
    {
     "data": {
      "text/plain": [
       "True"
      ]
     },
     "execution_count": 6,
     "metadata": {},
     "output_type": "execute_result"
    }
   ],
   "source": [
    "load_dotenv()"
   ]
  },
  {
   "cell_type": "code",
   "execution_count": 7,
   "id": "f1db930a",
   "metadata": {},
   "outputs": [],
   "source": [
    "model = ChatGroq(model=\"qwen/qwen3-32b\")"
   ]
  },
  {
   "cell_type": "code",
   "execution_count": 9,
   "id": "88ce3dfa",
   "metadata": {},
   "outputs": [
    {
     "data": {
      "text/plain": [
       "\"<think>\\nOkay, the user is asking for the capital of India. Let me think. I know that India is a country in South Asia. The capital city... I'm pretty sure it's New Delhi. But wait, sometimes people get confused because there's also Delhi. Let me confirm.\\n\\nNew Delhi is the actual capital, right? It's a part of the National Capital Territory of Delhi. The Indian government moved the capital from Calcutta to Delhi in 1911 when the British were still in power. Then after independence, New Delhi became the capital. I should mention that it's in the NCT of Delhi and maybe note that Delhi is a union territory. Also, maybe include the historical context about shifting from Calcutta. Let me make sure there are no other cities that were capitals. I don't think so. So the answer is New Delhi. But to be thorough, I should explain a bit more to cover why New Delhi and not Delhi. Also, maybe mention the significance of New Delhi as the seat of government, with institutions like the Parliament and the President's residence there. Yeah, that should cover the answer.\\n</think>\\n\\nThe capital of India is **New Delhi**. It is located within the **National Capital Territory (NCT) of Delhi**, a federal territory under the jurisdiction of the Indian government. \\n\\n### Key Points:\\n1. **Historical Context**: \\n   - The British shifted the capital of the Indian subcontinent from **Calcutta (now Kolkata)** to Delhi in **1911**, and New Delhi was specifically planned as the new capital.\\n   - **Delhi** itself is a historic city, but **New Delhi** is the planned city built to serve as the administrative capital.\\n\\n2. **Political Significance**:\\n   - New Delhi houses major government institutions, including:\\n     - **Rajya Sabha and Lok Sabha** (Parliament of India)\\n     - **President of India's official residence** (Rashtrapati Bhavan)\\n     - **Supreme Court of India**\\n   - It is distinct from the broader **Delhi Union Territory**, which includes both New Delhi and surrounding areas.\\n\\n3. **Geography**:\\n   - New Delhi is part of the **National Capital Region (NCR)**, a larger metropolitan area encompassing neighboring states like Haryana and Uttar Pradesh.\\n\\nIf you have further questions about Delhi's history or its role in India's governance, feel free to ask! 🇮🇳\""
      ]
     },
     "execution_count": 9,
     "metadata": {},
     "output_type": "execute_result"
    }
   ],
   "source": [
    "model.invoke(\"what is capital of india?\").content"
   ]
  },
  {
   "cell_type": "code",
   "execution_count": 10,
   "id": "a85e3fec",
   "metadata": {},
   "outputs": [],
   "source": [
    "from langchain_openai import OpenAIEmbeddings"
   ]
  },
  {
   "cell_type": "code",
   "execution_count": 11,
   "id": "67108e56",
   "metadata": {},
   "outputs": [],
   "source": [
    "embedding_model = OpenAIEmbeddings(model=\"text-embedding-3-small\")"
   ]
  },
  {
   "cell_type": "code",
   "execution_count": 15,
   "id": "7fe9e548",
   "metadata": {},
   "outputs": [],
   "source": [
    "doc_vector=embedding_model.embed_query(\"What is the capital of France?\")"
   ]
  }
 ],
 "metadata": {
  "kernelspec": {
   "display_name": "Python 3",
   "language": "python",
   "name": "python3"
  },
  "language_info": {
   "codemirror_mode": {
    "name": "ipython",
    "version": 3
   },
   "file_extension": ".py",
   "mimetype": "text/x-python",
   "name": "python",
   "nbconvert_exporter": "python",
   "pygments_lexer": "ipython3",
   "version": "3.10.18"
  }
 },
 "nbformat": 4,
 "nbformat_minor": 5
}
